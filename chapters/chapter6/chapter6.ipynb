{
  "nbformat": 4,
  "nbformat_minor": 0,
  "metadata": {
    "colab": {
      "provenance": []
    },
    "kernelspec": {
      "name": "python3",
      "display_name": "Python 3"
    },
    "language_info": {
      "name": "python"
    }
  },
  "cells": [
    {
      "cell_type": "markdown",
      "source": [
        "# 6. 如何开展和记录实验"
      ],
      "metadata": {
        "id": "rAtcWQpIgru6"
      }
    },
    {
      "cell_type": "markdown",
      "source": [
        "导读: 当我们开始训练多个具有不同超参数的模型，我们就需要对实验开始进行管理。**我们将其分为两个部分：实验追踪、和配置设置**。我们将使用SwanLab来演示实验记录和追踪；然后，学习如何配置我们深度学习应用的参数。\n",
        "\n",
        "本次课程目的在于能够让你了解并实践如何将实验管理工具整合到你的模型训练工作流程中。本节还是在上一个图像分类任务代码的基础上继续进行改进。"
      ],
      "metadata": {
        "id": "h4iESYvagi3v"
      }
    },
    {
      "cell_type": "markdown",
      "source": [
        "## 本教程目标"
      ],
      "metadata": {
        "id": "GJdQdBy_hGXL"
      }
    },
    {
      "cell_type": "markdown",
      "source": [
        "1. 通过SwanLab管理实验记录\n",
        "2. 了解参数配置。"
      ],
      "metadata": {
        "id": "GRk4TTjZhJly"
      }
    },
    {
      "cell_type": "markdown",
      "source": [
        "## 本教程内容"
      ],
      "metadata": {
        "id": "5CSUP6fKhKTa"
      }
    },
    {
      "cell_type": "markdown",
      "source": [
        "0. 训练流程\n",
        "\n",
        "这是第2节课的代码，如果不熟悉，再回去看视频讲解，多看几遍"
      ],
      "metadata": {
        "id": "iubzOkxbhOPc"
      }
    },
    {
      "cell_type": "code",
      "source": [
        "import torch\n",
        "import torchvision\n",
        "import torchvision.transforms as transforms\n",
        "\n",
        "# 1.构建数据集\n",
        "transform = transforms.Compose(\n",
        "    [transforms.ToTensor(),\n",
        "     transforms.Normalize((0.5, 0.5, 0.5), (0.5, 0.5, 0.5))])\n",
        "\n",
        "batch_size = 4\n",
        "\n",
        "trainset = torchvision.datasets.CIFAR10(root='./data', train=True,\n",
        "                                        download=True, transform=transform)\n",
        "trainloader = torch.utils.data.DataLoader(trainset, batch_size=batch_size,\n",
        "                                          shuffle=True, num_workers=2)\n",
        "\n",
        "testset = torchvision.datasets.CIFAR10(root='./data', train=False,\n",
        "                                       download=True, transform=transform)\n",
        "testloader = torch.utils.data.DataLoader(testset, batch_size=batch_size,\n",
        "                                         shuffle=False, num_workers=2)\n",
        "\n",
        "classes = ('plane', 'car', 'bird', 'cat',\n",
        "           'deer', 'dog', 'frog', 'horse', 'ship', 'truck')\n",
        "\n",
        "# 2.定义神经网络\n",
        "import torch.nn as nn\n",
        "import torch.nn.functional as F\n",
        "\n",
        "class Net(nn.Module):\n",
        "    def __init__(self):\n",
        "        super().__init__()\n",
        "        self.conv1 = nn.Conv2d(3, 6, 5)\n",
        "        self.pool = nn.MaxPool2d(2, 2)\n",
        "        self.conv2 = nn.Conv2d(6, 16, 5)\n",
        "        self.fc1 = nn.Linear(16 * 5 * 5, 120)\n",
        "        self.fc2 = nn.Linear(120, 84)\n",
        "        self.fc3 = nn.Linear(84, 10)\n",
        "\n",
        "    def forward(self, x):\n",
        "        x = self.pool(F.relu(self.conv1(x)))\n",
        "        x = self.pool(F.relu(self.conv2(x)))\n",
        "        x = torch.flatten(x, 1) # flatten all dimensions except batch\n",
        "        x = F.relu(self.fc1(x))\n",
        "        x = F.relu(self.fc2(x))\n",
        "        x = self.fc3(x)\n",
        "        return x\n",
        "\n",
        "\n",
        "net = Net()\n",
        "\n",
        "# 3.定义 Loss 函数和优化器\n",
        "import torch.optim as optim\n",
        "\n",
        "criterion = nn.CrossEntropyLoss() # risk loss\n",
        "optimizer = optim.SGD(net.parameters(), lr=0.001, momentum=0.9)\n",
        "\n",
        "# 4.训练网络\n",
        "for epoch in range(2):  # loop over the dataset multiple times\n",
        "\n",
        "    running_loss = 0.0\n",
        "    for i, data in enumerate(trainloader, 0):\n",
        "        if (i > 5):\n",
        "          break # 为了增加训练速度，正常需要训练所有数据\n",
        "        # get the inputs; data is a list of [inputs, labels]\n",
        "        inputs, labels = data\n",
        "\n",
        "        # zero the parameter gradients\n",
        "        optimizer.zero_grad()\n",
        "\n",
        "        # forward + backward + optimize\n",
        "        outputs = net(inputs)\n",
        "        loss = criterion(outputs, labels)\n",
        "        loss.backward()\n",
        "        optimizer.step()\n",
        "\n",
        "        # print statistics\n",
        "        running_loss += loss.item()\n",
        "        if i % 2000 == 1999:    # print every 2000 mini-batches\n",
        "            print(f'[{epoch + 1}, {i + 1:5d}] loss: {running_loss / 2000:.3f}')\n",
        "            running_loss = 0.0\n",
        "\n",
        "print('Finished Training')"
      ],
      "metadata": {
        "colab": {
          "base_uri": "https://localhost:8080/"
        },
        "id": "TLDXTptshNgx",
        "outputId": "aff5a38f-7700-4d25-e294-10b0d0758da2"
      },
      "execution_count": null,
      "outputs": [
        {
          "output_type": "stream",
          "name": "stdout",
          "text": [
            "Files already downloaded and verified\n",
            "Files already downloaded and verified\n",
            "Finished Training\n"
          ]
        }
      ]
    },
    {
      "cell_type": "markdown",
      "source": [
        "## 1. 实验记录\n",
        "\n",
        "大家是不是都曾遇到过这样的情况：如果没有良好的实验记录工具，我们最终也许会得到一个性能非常好的模型，但我们不记得其超参数选择，或者启动 100 个实验却无法轻松跟踪哪个模型表现最好，而实验跟踪工具能帮助我们解决这些问题。\n",
        "\n",
        "**Logging**\n",
        "\n",
        "通常来说我们在训练的过程中，通常会打印我们正在使用的超参数，以及模型训练时的损失+准确性。就比如上面打印的结果一般。我们能看到每一个epoch的损失是多少。下面展示我们如何用SwanLab管理实验记录"
      ],
      "metadata": {
        "id": "3v6pJkPbiRJm"
      }
    },
    {
      "cell_type": "markdown",
      "source": [
        "### SwanLab"
      ],
      "metadata": {
        "id": "xNOOHmrAijSx"
      }
    },
    {
      "cell_type": "markdown",
      "source": [
        "SwanLab是一款开源、轻量级的AI实验跟踪工具，提供了一个跟踪、比较、和协作实验的平台，旨在加速AI研发团队100倍的研发效率。\n",
        "\n",
        "其提供了友好的API和漂亮的界面，结合了超参数跟踪、指标记录、在线协作、实验链接分享、实时消息通知等功能，让您可以快速跟踪ML实验、可视化过程、分享给同伴。\n",
        "\n",
        "借助SwanLab，科研人员可以沉淀自己的每一次训练经验，与合作者无缝地交流和协作，机器学习工程师可以更快地开发可用于生产的模型。"
      ],
      "metadata": {
        "id": "WYlTMMjqim0Z"
      }
    },
    {
      "cell_type": "code",
      "source": [
        "pip install swanlab"
      ],
      "metadata": {
        "colab": {
          "base_uri": "https://localhost:8080/"
        },
        "collapsed": true,
        "id": "gU1hcb8GkO2u",
        "outputId": "6e3d3441-fcf5-4534-a496-2a86e958aca5"
      },
      "execution_count": null,
      "outputs": [
        {
          "output_type": "stream",
          "name": "stdout",
          "text": [
            "Requirement already satisfied: swanlab in /usr/local/lib/python3.10/dist-packages (0.3.23)\n",
            "Requirement already satisfied: click in /usr/local/lib/python3.10/dist-packages (from swanlab) (8.1.7)\n",
            "Requirement already satisfied: cos-python-sdk-v5 in /usr/local/lib/python3.10/dist-packages (from swanlab) (1.9.32)\n",
            "Requirement already satisfied: psutil in /usr/local/lib/python3.10/dist-packages (from swanlab) (5.9.5)\n",
            "Requirement already satisfied: pynvml in /usr/local/lib/python3.10/dist-packages (from swanlab) (11.5.3)\n",
            "Requirement already satisfied: pyyaml in /usr/local/lib/python3.10/dist-packages (from swanlab) (6.0.2)\n",
            "Requirement already satisfied: requests>=2.25.0 in /usr/local/lib/python3.10/dist-packages (from swanlab) (2.32.3)\n",
            "Requirement already satisfied: rich in /usr/local/lib/python3.10/dist-packages (from swanlab) (13.9.3)\n",
            "Requirement already satisfied: swanboard==0.1.4b2 in /usr/local/lib/python3.10/dist-packages (from swanlab) (0.1.4b2)\n",
            "Requirement already satisfied: swankit==0.1.1b3 in /usr/local/lib/python3.10/dist-packages (from swanlab) (0.1.1b3)\n",
            "Requirement already satisfied: urllib3>=1.26.0 in /usr/local/lib/python3.10/dist-packages (from swanlab) (2.2.3)\n",
            "Requirement already satisfied: fastapi>=0.110.1 in /usr/local/lib/python3.10/dist-packages (from swanboard==0.1.4b2->swanlab) (0.115.3)\n",
            "Requirement already satisfied: peewee in /usr/local/lib/python3.10/dist-packages (from swanboard==0.1.4b2->swanlab) (3.17.7)\n",
            "Requirement already satisfied: setuptools in /usr/local/lib/python3.10/dist-packages (from swanboard==0.1.4b2->swanlab) (75.1.0)\n",
            "Requirement already satisfied: ujson in /usr/local/lib/python3.10/dist-packages (from swanboard==0.1.4b2->swanlab) (5.10.0)\n",
            "Requirement already satisfied: uvicorn>=0.14.0 in /usr/local/lib/python3.10/dist-packages (from swanboard==0.1.4b2->swanlab) (0.32.0)\n",
            "Requirement already satisfied: charset-normalizer<4,>=2 in /usr/local/lib/python3.10/dist-packages (from requests>=2.25.0->swanlab) (3.4.0)\n",
            "Requirement already satisfied: idna<4,>=2.5 in /usr/local/lib/python3.10/dist-packages (from requests>=2.25.0->swanlab) (3.10)\n",
            "Requirement already satisfied: certifi>=2017.4.17 in /usr/local/lib/python3.10/dist-packages (from requests>=2.25.0->swanlab) (2024.8.30)\n",
            "Requirement already satisfied: xmltodict in /usr/local/lib/python3.10/dist-packages (from cos-python-sdk-v5->swanlab) (0.14.2)\n",
            "Requirement already satisfied: six in /usr/local/lib/python3.10/dist-packages (from cos-python-sdk-v5->swanlab) (1.16.0)\n",
            "Requirement already satisfied: crcmod in /usr/local/lib/python3.10/dist-packages (from cos-python-sdk-v5->swanlab) (1.7)\n",
            "Requirement already satisfied: pycryptodome in /usr/local/lib/python3.10/dist-packages (from cos-python-sdk-v5->swanlab) (3.21.0)\n",
            "Requirement already satisfied: markdown-it-py>=2.2.0 in /usr/local/lib/python3.10/dist-packages (from rich->swanlab) (3.0.0)\n",
            "Requirement already satisfied: pygments<3.0.0,>=2.13.0 in /usr/local/lib/python3.10/dist-packages (from rich->swanlab) (2.18.0)\n",
            "Requirement already satisfied: typing-extensions<5.0,>=4.0.0 in /usr/local/lib/python3.10/dist-packages (from rich->swanlab) (4.12.2)\n",
            "Requirement already satisfied: starlette<0.42.0,>=0.40.0 in /usr/local/lib/python3.10/dist-packages (from fastapi>=0.110.1->swanboard==0.1.4b2->swanlab) (0.41.2)\n",
            "Requirement already satisfied: pydantic!=1.8,!=1.8.1,!=2.0.0,!=2.0.1,!=2.1.0,<3.0.0,>=1.7.4 in /usr/local/lib/python3.10/dist-packages (from fastapi>=0.110.1->swanboard==0.1.4b2->swanlab) (2.9.2)\n",
            "Requirement already satisfied: mdurl~=0.1 in /usr/local/lib/python3.10/dist-packages (from markdown-it-py>=2.2.0->rich->swanlab) (0.1.2)\n",
            "Requirement already satisfied: h11>=0.8 in /usr/local/lib/python3.10/dist-packages (from uvicorn>=0.14.0->swanboard==0.1.4b2->swanlab) (0.14.0)\n",
            "Requirement already satisfied: annotated-types>=0.6.0 in /usr/local/lib/python3.10/dist-packages (from pydantic!=1.8,!=1.8.1,!=2.0.0,!=2.0.1,!=2.1.0,<3.0.0,>=1.7.4->fastapi>=0.110.1->swanboard==0.1.4b2->swanlab) (0.7.0)\n",
            "Requirement already satisfied: pydantic-core==2.23.4 in /usr/local/lib/python3.10/dist-packages (from pydantic!=1.8,!=1.8.1,!=2.0.0,!=2.0.1,!=2.1.0,<3.0.0,>=1.7.4->fastapi>=0.110.1->swanboard==0.1.4b2->swanlab) (2.23.4)\n",
            "Requirement already satisfied: anyio<5,>=3.4.0 in /usr/local/lib/python3.10/dist-packages (from starlette<0.42.0,>=0.40.0->fastapi>=0.110.1->swanboard==0.1.4b2->swanlab) (3.7.1)\n",
            "Requirement already satisfied: sniffio>=1.1 in /usr/local/lib/python3.10/dist-packages (from anyio<5,>=3.4.0->starlette<0.42.0,>=0.40.0->fastapi>=0.110.1->swanboard==0.1.4b2->swanlab) (1.3.1)\n",
            "Requirement already satisfied: exceptiongroup in /usr/local/lib/python3.10/dist-packages (from anyio<5,>=3.4.0->starlette<0.42.0,>=0.40.0->fastapi>=0.110.1->swanboard==0.1.4b2->swanlab) (1.2.2)\n"
          ]
        }
      ]
    },
    {
      "cell_type": "code",
      "source": [
        "import swanlab\n",
        "swanlab.login()"
      ],
      "metadata": {
        "colab": {
          "base_uri": "https://localhost:8080/"
        },
        "id": "WzAFKlRUkTjS",
        "outputId": "267de181-569a-4605-ff98-00aac332d562"
      },
      "execution_count": null,
      "outputs": [
        {
          "output_type": "stream",
          "name": "stdout",
          "text": []
        }
      ]
    },
    {
      "cell_type": "markdown",
      "source": [
        "下面重新构造上面的训练流程，以便我们能够记录参数"
      ],
      "metadata": {
        "id": "2iG5UFJglU0O"
      }
    },
    {
      "cell_type": "code",
      "source": [
        "def train(epochs, learning_rate):\n",
        "  print(f\"Training for {epochs} epochs with learning rate {learning_rate}\")\n",
        "\n",
        "  swanlab.init(\n",
        "        # Set the project where this run will be logged\n",
        "        project=\"example\",\n",
        "        # Track hyperparameters and run metadata\n",
        "        config={\n",
        "        \"learning_rate\": learning_rate,\n",
        "        \"epochs\": epochs,\n",
        "        })\n",
        "\n",
        "\n",
        "  # 构造数据集\n",
        "  transform = transforms.Compose(\n",
        "      [transforms.ToTensor(),\n",
        "      transforms.Normalize((0.5, 0.5, 0.5), (0.5, 0.5, 0.5))])\n",
        "\n",
        "  batch_size = 4\n",
        "\n",
        "  trainset = torchvision.datasets.CIFAR10(root='./data', train=True,\n",
        "                                          download=True, transform=transform)\n",
        "  trainloader = torch.utils.data.DataLoader(trainset, batch_size=batch_size,\n",
        "\n",
        "                                            shuffle=True, num_workers=2)\n",
        "  # 定义网络\n",
        "  net = Net()\n",
        "\n",
        "  # 定义损失和优化器\n",
        "  criterion = nn.CrossEntropyLoss()\n",
        "  optimizer = optim.SGD(net.parameters(), lr=learning_rate, momentum=0.9) # 学习率作为一个可以调整的参数\n",
        "\n",
        "\n",
        "  # 训练网络\n",
        "  for epoch in range(epochs):  # epochs作为参数传入\n",
        "\n",
        "      running_loss = 0.0\n",
        "      for i, data in enumerate(trainloader, 0):\n",
        "          # get the inputs; data is a list of [inputs, labels]\n",
        "          if (i > 5):\n",
        "            break\n",
        "          inputs, labels = data\n",
        "\n",
        "          # zero the parameter gradients\n",
        "          optimizer.zero_grad()\n",
        "\n",
        "          # forward + backward + optimize\n",
        "          outputs = net(inputs)\n",
        "          loss = criterion(outputs, labels)\n",
        "          loss.backward()\n",
        "          optimizer.step()\n",
        "          running_loss += loss.item()\n",
        "      print(f\"epoch={epoch}, loss={running_loss}\")\n",
        "      swanlab.log({\"loss\": running_loss})\n",
        "      running_loss = 0.0\n",
        "  swanlab.finish()\n"
      ],
      "metadata": {
        "id": "F_kWhjd_k1Qq"
      },
      "execution_count": null,
      "outputs": []
    },
    {
      "cell_type": "code",
      "source": [
        "train(epochs=10, learning_rate=0.01)"
      ],
      "metadata": {
        "colab": {
          "base_uri": "https://localhost:8080/",
          "height": 470
        },
        "id": "wrViGye9na7O",
        "outputId": "66fe8376-fd89-48c3-a011-941c003be2fe"
      },
      "execution_count": null,
      "outputs": [
        {
          "output_type": "stream",
          "name": "stdout",
          "text": [
            "Training for 10 epochs with learning rate 0.01\n",
            "\u001b[1m\u001b[34mswanlab\u001b[0m\u001b[0m: Tracking run with swanlab version 0.3.23\n",
            "\u001b[1m\u001b[34mswanlab\u001b[0m\u001b[0m: Run data will be saved locally in \u001b[35m\u001b[1m/content/swanlog/run-20241027_170236-11c31ea9\u001b[0m\u001b[0m\n",
            "\u001b[1m\u001b[34mswanlab\u001b[0m\u001b[0m: 👋 Hi \u001b[1m\u001b[39mwenglean\u001b[0m\u001b[0m, welcome to swanlab!\n",
            "\u001b[1m\u001b[34mswanlab\u001b[0m\u001b[0m: Syncing run \u001b[33msnake-7\u001b[0m to the cloud\n",
            "\u001b[1m\u001b[34mswanlab\u001b[0m\u001b[0m: 🌟 Run `\u001b[1mswanlab watch /content/swanlog\u001b[0m` to view SwanLab Experiment Dashboard locally\n",
            "\u001b[1m\u001b[34mswanlab\u001b[0m\u001b[0m: 🏠 View project at \u001b[34m\u001b[4mhttps://swanlab.cn/@wenglean/example\u001b[0m\u001b[0m\n",
            "\u001b[1m\u001b[34mswanlab\u001b[0m\u001b[0m: 🚀 View run at \u001b[34m\u001b[4mhttps://swanlab.cn/@wenglean/example/runs/fxz59ri9m3g7jxbm46owh\u001b[0m\u001b[0m\n"
          ]
        },
        {
          "output_type": "display_data",
          "data": {
            "text/plain": [
              "<IPython.core.display.HTML object>"
            ],
            "text/html": [
              "\n",
              "<!DOCTYPE html>\n",
              "<html lang=\"en\">\n",
              "<head>\n",
              "    <meta charset=\"UTF-8\">\n",
              "    <meta name=\"viewport\" content=\"width=device-width, initial-scale=1.0\">\n",
              "    <title>Show Iframe</title>\n",
              "    \n",
              "        <script>\n",
              "            function showIframe() {\n",
              "                var iframeHtml = '<iframe src=\"https://swanlab.cn/@wenglean/example/runs/fxz59ri9m3g7jxbm46owh\" width=100% height=\"600\" frameborder=\"no\"></iframe>';\n",
              "                document.getElementById('iframeContainer').innerHTML = iframeHtml;\n",
              "            }\n",
              "        </script>\n",
              "        \n",
              "</head>\n",
              "<body>\n",
              "    <style>\n",
              "        .interactive-button {\n",
              "            display: flex;\n",
              "            align-items: center;\n",
              "            height: 36px;\n",
              "            border: 0px;\n",
              "            background-color: #2c8f63;\n",
              "            color: white;\n",
              "            padding: 10px 20px;\n",
              "            transition: background-color 0.3s, transform 0.2s;\n",
              "        }\n",
              "\n",
              "        .interactive-button:hover {\n",
              "            background-color: #5cab87;\n",
              "            cursor: pointer;\n",
              "        }\n",
              "\n",
              "        .interactive-button:active {\n",
              "            background-color: #217952;\n",
              "            transform: scale(0.96);\n",
              "        }\n",
              "    </style>\n",
              "    <br>\n",
              "    <button onclick=\"showIframe()\" class=\"interactive-button\">\n",
              "        <svg style=\"height: 16px; margin-right: 8px;\" viewBox=\"0 0 46 46\" fill=\"none\">\n",
              "            <path\n",
              "                d=\"M10.8439 21.1974C10.6414 21.2854 10.4477 21.3925 10.2655 21.5173L10.2069 21.5652C10.1839 21.58 10.1625 21.5969 10.1429 21.6159C6.29135 24.6118 4.22831 29.4416 5.32646 34.282C5.94656 37.0577 7.50461 39.5348 9.73801 41.2958C11.9714 43.0568 14.7436 43.994 17.5874 43.9495H18.0219C19.8864 43.8697 21.7087 43.3694 23.3526 42.486C24.9964 41.6026 26.4193 40.3589 27.5147 38.848C28.61 37.3371 29.3496 35.598 29.678 33.761C30.0065 31.9239 29.9153 30.0363 29.4112 28.2395C28.9181 26.4723 27.8919 24.8437 26.9937 23.2551C25.4158 20.4653 23.8343 17.6764 22.2492 14.8884C21.7801 14.0647 21.3057 13.2465 20.8419 12.4228C20.2315 11.3353 19.2746 10.1519 19.224 8.86183C19.1733 7.57176 20.2235 6.32701 21.5082 6.07912C23.9284 5.61801 25.0639 8.24078 25.0693 8.23812C25.363 8.94035 25.9123 9.50489 26.6063 9.81764C27.3002 10.1304 28.087 10.168 28.8077 9.92298C29.5283 9.67791 30.1291 9.1684 30.4885 8.49743C30.8479 7.82646 30.9392 7.04405 30.7439 6.30835C30.1514 4.37314 28.9133 2.69953 27.2363 1.56656C25.7615 0.511704 23.9847 -0.0372109 22.1719 0.00195984C20.9049 0.00893199 19.6532 0.27989 18.4967 0.797557C17.3402 1.31522 16.3043 2.06823 15.4551 3.00856C14.49 4.08707 13.7984 5.38193 13.4389 6.78385C13.0794 8.18576 13.0624 9.6536 13.3894 11.0635C13.52 11.593 13.6984 12.1095 13.9225 12.6067C14.5595 14.0514 15.4951 15.3681 16.284 16.7355C17.2525 18.4147 18.2209 20.0948 19.1893 21.7758C20.1578 23.4568 21.1351 25.1449 22.1213 26.8401C22.9209 28.2421 23.7925 29.4682 23.8805 31.1528C23.9175 32.0513 23.7682 32.9479 23.4419 33.7859C23.1156 34.6239 22.6194 35.3854 21.9845 36.0223C21.3496 36.6592 20.5897 37.1578 19.7527 37.4868C18.9157 37.8157 18.0196 37.9678 17.121 37.9336C14.0024 37.7923 11.6488 35.4814 11.1744 32.4588C10.58 28.6419 13.552 26.5469 13.552 26.5469C14.1782 26.1785 14.6497 25.5955 14.8791 24.906C15.1084 24.2166 15.0801 23.4673 14.7993 22.7971C14.5186 22.127 14.0044 21.5813 13.3521 21.2611C12.6998 20.941 11.9536 20.8682 11.2517 21.0561C11.1174 21.0939 10.9856 21.1402 10.8572 21.1947\"\n",
              "                fill=\"white\"\n",
              "            />\n",
              "            <path\n",
              "                d=\"M42.8101 31.5968C42.8109 30.5198 42.7218 29.4445 42.5435 28.3823C42.2663 26.7069 41.7464 25.0808 41.0002 23.5552C40.5524 22.6463 39.9874 21.7374 39.1024 21.2417C38.6593 20.9919 38.1589 20.8617 37.6502 20.8639C37.1416 20.8661 36.6423 21.0006 36.2013 21.2541C35.7604 21.5077 35.393 21.8716 35.1352 22.3101C34.8775 22.7485 34.7382 23.2466 34.7312 23.7552C34.7072 24.8773 35.3149 25.8875 35.768 26.9217C36.5212 28.6453 36.8623 30.5208 36.7642 32.3993C36.6661 34.2777 36.1315 36.1075 35.2029 37.7433C35.146 37.8404 35.0952 37.941 35.051 38.0445C34.8623 38.4842 34.7635 38.9573 34.7605 39.4358C34.7802 40.1222 35.0356 40.7808 35.4835 41.3011C35.9315 41.8214 36.5449 42.1717 37.2207 42.2932C38.8759 42.589 40.1899 41.347 40.8856 39.9609C42.1643 37.3589 42.823 34.4961 42.8101 31.5968Z\"\n",
              "                fill=\"white\"\n",
              "            />\n",
              "            <path\n",
              "                d=\"M28.2309 11.8938C28.1761 11.9043 28.1218 11.9176 28.0683 11.9338C27.9593 11.9642 27.8611 12.0249 27.7851 12.1088C27.7091 12.1928 27.6584 12.2965 27.6389 12.408C27.6193 12.5195 27.6318 12.6343 27.6748 12.7391C27.7178 12.8438 27.7895 12.9343 27.8818 12.9999C29.2375 14.0252 30.3809 15.3043 31.2482 16.7662C31.4838 17.1677 31.6888 17.5865 31.8612 18.0189C32.0052 18.3921 32.1971 18.8799 32.6822 18.8532C33.0607 18.8346 33.2153 18.512 33.3192 18.1895C33.8137 16.5125 33.9678 14.7534 33.7723 13.0159C33.6331 12.0693 33.4155 11.1359 33.122 10.2252C33.0775 10.0047 32.9744 9.80029 32.8235 9.6335C32.7273 9.54627 32.6054 9.49262 32.4761 9.4806C32.3468 9.46859 32.2171 9.49886 32.1065 9.56687C32.0016 9.65188 31.9115 9.75365 31.8399 9.86806C31.3956 10.4658 30.825 10.9581 30.1687 11.3101C29.8377 11.4861 29.4893 11.6272 29.1292 11.7312C28.828 11.8192 28.5215 11.8325 28.2309 11.8938Z\"\n",
              "                fill=\"white\"\n",
              "            />\n",
              "        </svg>\n",
              "        Display SwanLab Board\n",
              "    </button>\n",
              "    <br>\n",
              "    <div id=\"iframeContainer\"></div>\n",
              "</body>\n",
              "</html>\n"
            ]
          },
          "metadata": {}
        },
        {
          "output_type": "stream",
          "name": "stdout",
          "text": [
            "Files already downloaded and verified\n",
            "epoch=0, loss=13.845096826553345\n",
            "epoch=1, loss=13.9386727809906\n",
            "epoch=2, loss=13.875343084335327\n",
            "epoch=3, loss=13.757331609725952\n",
            "epoch=4, loss=13.789016962051392\n",
            "epoch=5, loss=13.851541519165039\n",
            "epoch=6, loss=13.88466501235962\n",
            "epoch=7, loss=13.675924301147461\n",
            "epoch=8, loss=13.8859281539917\n",
            "epoch=9, loss=13.772759199142456\n",
            "\u001b[1m\u001b[34mswanlab\u001b[0m\u001b[0m: 🌟 Run `\u001b[1mswanlab watch /content/swanlog\u001b[0m` to view SwanLab Experiment Dashboard locally\n",
            "\u001b[1m\u001b[34mswanlab\u001b[0m\u001b[0m: 🏠 View project at \u001b[34m\u001b[4mhttps://swanlab.cn/@wenglean/example\u001b[0m\u001b[0m\n",
            "\u001b[1m\u001b[34mswanlab\u001b[0m\u001b[0m: 🚀 View run at \u001b[34m\u001b[4mhttps://swanlab.cn/@wenglean/example/runs/fxz59ri9m3g7jxbm46owh\u001b[0m\u001b[0m\n"
          ]
        }
      ]
    },
    {
      "cell_type": "markdown",
      "source": [
        "我们在这里使用 3 个函数：swanlab.init、swanlab.log 和 swanlab.finish——它们各自的作用是什么？\n",
        "\n",
        "- 我们在脚本开头调用一次 swanlab.init() 来初始化新项目。这会创建新的运行并启动后台进程来同步数据。\n",
        "- 我们调用 swanlab.log(dict) 将指标、媒体或自定义对象的字典记录到步骤中。我们可以看到我们的模型和数据如何随着时间的推移而演变。\n",
        "- 我们调用swanlab.finish来使运行完成，并完成所有数据的上传。\n",
        "\n",
        "让我们看看在 swanlab 网站上看到了什么，应该看到我们的准确性和损失曲线。"
      ],
      "metadata": {
        "id": "TWOi8Rgqokq5"
      }
    },
    {
      "cell_type": "markdown",
      "source": [
        "我们已经获得了两个不错的功能：\n",
        "\n",
        "1. 能够看到循环每一步的准确性和损失如何变化。\n",
        "2. 能够看到与运行相关的配置（超参数）。\n",
        "3. 能够看到我们的运行最终获得的准确率acc和loss损失。"
      ],
      "metadata": {
        "id": "7HTBKznQpSuH"
      }
    },
    {
      "cell_type": "markdown",
      "source": [
        "# 参数进行配置"
      ],
      "metadata": {
        "id": "5sVPPqTftWBJ"
      }
    },
    {
      "cell_type": "markdown",
      "source": [
        "我们不希望用硬编码的路径名、模型名和超参数来训练深度学习模型。我们希望能够使用一个配置文件，根据使用的数据集、模型或配置进行修改。硬编码是什么？是指在编写程序时，直接将具体的值（如字符串、数字、路径等）写入源代码中，而不是通过变量、配置文件、数据库查询或其他动态方法来获取这些值。(这其实不是一个好习惯，但是经常有人这样做)\n",
        "\n",
        "首先，让我们从一些错误的配置深度学习运行的方法开始。假设我们想从命令行控制数据集的 batch_size。可能在某台机器上工作时，你可以使用较大的 batch_size，而在另一台机器上则不行。最基本的做法是记住更改硬编码的 batch size。"
      ],
      "metadata": {
        "id": "fdsRFpyPtdG5"
      }
    },
    {
      "cell_type": "code",
      "source": [
        "batch_size = 128\n",
        "# batch_size = 4"
      ],
      "metadata": {
        "id": "UN69DCJutZ6C"
      },
      "execution_count": null,
      "outputs": []
    },
    {
      "cell_type": "markdown",
      "source": [
        "像上面那种方法并不是一个好的选择，因为每次都要去更改源码。\n",
        "\n",
        "第二种解决方案是在运行脚本时将`batch_size`的值作为参数传递进去。这样我们就可以根据所用的显卡来改变它。我们可以通过`sys.argv`使用命令行参数来实现这一点。"
      ],
      "metadata": {
        "id": "OQ8bBH2gtk0J"
      }
    },
    {
      "cell_type": "markdown",
      "source": [
        "使用 swanlab.config 保存你的训练配置，例如：\n",
        "\n",
        "超参数\n",
        "\n",
        "输入设置，例如数据集名称或模型类型\n",
        "\n",
        "实验的任何其他变量\n",
        "\n",
        "swanlab.config 使你可以轻松分析你的实验并在将来复现你的工作。你还可以在SwanLab应用中比较不同实验的配置，并查看不同的训练配置如何影响模型输出。"
      ],
      "metadata": {
        "id": "EYd3PjZpt4d-"
      }
    },
    {
      "cell_type": "markdown",
      "source": [
        "## 2.设置实验配置\n",
        "config 通常在训练脚本的开头定义。当然，不同的人工智能工作流可能会有所不同，因此 config 也支持在脚本的不同位置定义，以满足灵活的需求。\n",
        "\n",
        "以下部分概述了定义实验配置的不同场景。"
      ],
      "metadata": {
        "id": "llBG_hs_t8ZP"
      }
    },
    {
      "cell_type": "markdown",
      "source": [
        "### 2.1在init中设置\n",
        "\n",
        "下面的代码片段演示了如何使用Python字典定义 config，以及如何在初始化SwanLab实验时将该字典作为参数传递："
      ],
      "metadata": {
        "id": "eAWgdHUGt__-"
      }
    },
    {
      "cell_type": "code",
      "source": [
        "import swanlab\n",
        "swanlab.login()\n",
        "# 定义一个config字典\n",
        "config = {\n",
        "  \"hidden_layer_sizes\": [64, 128],\n",
        "  \"activation\": \"ELU\",\n",
        "  \"dropout\": 0.5,\n",
        "  \"num_classes\": 10,\n",
        "  \"optimizer\": \"Adam\",\n",
        "  \"batch_normalization\": True,\n",
        "  \"seq_length\": 100,\n",
        "}\n",
        "\n",
        "# 在你初始化SwanLab时传递config字典\n",
        "run = swanlab.init(project=\"config_example\", config=config)"
      ],
      "metadata": {
        "colab": {
          "base_uri": "https://localhost:8080/",
          "height": 209
        },
        "id": "l_BPnG27tqw-",
        "outputId": "b6aed7c1-d9ca-4f30-a1d3-beb17f9fe043"
      },
      "execution_count": null,
      "outputs": [
        {
          "output_type": "stream",
          "name": "stdout",
          "text": [
            "\u001b[1m\u001b[34mswanlab\u001b[0m\u001b[0m: Tracking run with swanlab version 0.3.23\n",
            "\u001b[1m\u001b[34mswanlab\u001b[0m\u001b[0m: Run data will be saved locally in \u001b[35m\u001b[1m/content/swanlog/run-20241027_170252-eda2be8e\u001b[0m\u001b[0m\n",
            "\u001b[1m\u001b[34mswanlab\u001b[0m\u001b[0m: 👋 Hi \u001b[1m\u001b[39mwenglean\u001b[0m\u001b[0m, welcome to swanlab!\n",
            "\u001b[1m\u001b[34mswanlab\u001b[0m\u001b[0m: Syncing run \u001b[33mox-3\u001b[0m to the cloud\n",
            "\u001b[1m\u001b[34mswanlab\u001b[0m\u001b[0m: 🌟 Run `\u001b[1mswanlab watch /content/swanlog\u001b[0m` to view SwanLab Experiment Dashboard locally\n",
            "\u001b[1m\u001b[34mswanlab\u001b[0m\u001b[0m: 🏠 View project at \u001b[34m\u001b[4mhttps://swanlab.cn/@wenglean/config_example\u001b[0m\u001b[0m\n",
            "\u001b[1m\u001b[34mswanlab\u001b[0m\u001b[0m: 🚀 View run at \u001b[34m\u001b[4mhttps://swanlab.cn/@wenglean/config_example/runs/21a365zn8izgx0caxk8d6\u001b[0m\u001b[0m\n"
          ]
        },
        {
          "output_type": "display_data",
          "data": {
            "text/plain": [
              "<IPython.core.display.HTML object>"
            ],
            "text/html": [
              "\n",
              "<!DOCTYPE html>\n",
              "<html lang=\"en\">\n",
              "<head>\n",
              "    <meta charset=\"UTF-8\">\n",
              "    <meta name=\"viewport\" content=\"width=device-width, initial-scale=1.0\">\n",
              "    <title>Show Iframe</title>\n",
              "    \n",
              "        <script>\n",
              "            function showIframe() {\n",
              "                var iframeHtml = '<iframe src=\"https://swanlab.cn/@wenglean/config_example/runs/21a365zn8izgx0caxk8d6\" width=100% height=\"600\" frameborder=\"no\"></iframe>';\n",
              "                document.getElementById('iframeContainer').innerHTML = iframeHtml;\n",
              "            }\n",
              "        </script>\n",
              "        \n",
              "</head>\n",
              "<body>\n",
              "    <style>\n",
              "        .interactive-button {\n",
              "            display: flex;\n",
              "            align-items: center;\n",
              "            height: 36px;\n",
              "            border: 0px;\n",
              "            background-color: #2c8f63;\n",
              "            color: white;\n",
              "            padding: 10px 20px;\n",
              "            transition: background-color 0.3s, transform 0.2s;\n",
              "        }\n",
              "\n",
              "        .interactive-button:hover {\n",
              "            background-color: #5cab87;\n",
              "            cursor: pointer;\n",
              "        }\n",
              "\n",
              "        .interactive-button:active {\n",
              "            background-color: #217952;\n",
              "            transform: scale(0.96);\n",
              "        }\n",
              "    </style>\n",
              "    <br>\n",
              "    <button onclick=\"showIframe()\" class=\"interactive-button\">\n",
              "        <svg style=\"height: 16px; margin-right: 8px;\" viewBox=\"0 0 46 46\" fill=\"none\">\n",
              "            <path\n",
              "                d=\"M10.8439 21.1974C10.6414 21.2854 10.4477 21.3925 10.2655 21.5173L10.2069 21.5652C10.1839 21.58 10.1625 21.5969 10.1429 21.6159C6.29135 24.6118 4.22831 29.4416 5.32646 34.282C5.94656 37.0577 7.50461 39.5348 9.73801 41.2958C11.9714 43.0568 14.7436 43.994 17.5874 43.9495H18.0219C19.8864 43.8697 21.7087 43.3694 23.3526 42.486C24.9964 41.6026 26.4193 40.3589 27.5147 38.848C28.61 37.3371 29.3496 35.598 29.678 33.761C30.0065 31.9239 29.9153 30.0363 29.4112 28.2395C28.9181 26.4723 27.8919 24.8437 26.9937 23.2551C25.4158 20.4653 23.8343 17.6764 22.2492 14.8884C21.7801 14.0647 21.3057 13.2465 20.8419 12.4228C20.2315 11.3353 19.2746 10.1519 19.224 8.86183C19.1733 7.57176 20.2235 6.32701 21.5082 6.07912C23.9284 5.61801 25.0639 8.24078 25.0693 8.23812C25.363 8.94035 25.9123 9.50489 26.6063 9.81764C27.3002 10.1304 28.087 10.168 28.8077 9.92298C29.5283 9.67791 30.1291 9.1684 30.4885 8.49743C30.8479 7.82646 30.9392 7.04405 30.7439 6.30835C30.1514 4.37314 28.9133 2.69953 27.2363 1.56656C25.7615 0.511704 23.9847 -0.0372109 22.1719 0.00195984C20.9049 0.00893199 19.6532 0.27989 18.4967 0.797557C17.3402 1.31522 16.3043 2.06823 15.4551 3.00856C14.49 4.08707 13.7984 5.38193 13.4389 6.78385C13.0794 8.18576 13.0624 9.6536 13.3894 11.0635C13.52 11.593 13.6984 12.1095 13.9225 12.6067C14.5595 14.0514 15.4951 15.3681 16.284 16.7355C17.2525 18.4147 18.2209 20.0948 19.1893 21.7758C20.1578 23.4568 21.1351 25.1449 22.1213 26.8401C22.9209 28.2421 23.7925 29.4682 23.8805 31.1528C23.9175 32.0513 23.7682 32.9479 23.4419 33.7859C23.1156 34.6239 22.6194 35.3854 21.9845 36.0223C21.3496 36.6592 20.5897 37.1578 19.7527 37.4868C18.9157 37.8157 18.0196 37.9678 17.121 37.9336C14.0024 37.7923 11.6488 35.4814 11.1744 32.4588C10.58 28.6419 13.552 26.5469 13.552 26.5469C14.1782 26.1785 14.6497 25.5955 14.8791 24.906C15.1084 24.2166 15.0801 23.4673 14.7993 22.7971C14.5186 22.127 14.0044 21.5813 13.3521 21.2611C12.6998 20.941 11.9536 20.8682 11.2517 21.0561C11.1174 21.0939 10.9856 21.1402 10.8572 21.1947\"\n",
              "                fill=\"white\"\n",
              "            />\n",
              "            <path\n",
              "                d=\"M42.8101 31.5968C42.8109 30.5198 42.7218 29.4445 42.5435 28.3823C42.2663 26.7069 41.7464 25.0808 41.0002 23.5552C40.5524 22.6463 39.9874 21.7374 39.1024 21.2417C38.6593 20.9919 38.1589 20.8617 37.6502 20.8639C37.1416 20.8661 36.6423 21.0006 36.2013 21.2541C35.7604 21.5077 35.393 21.8716 35.1352 22.3101C34.8775 22.7485 34.7382 23.2466 34.7312 23.7552C34.7072 24.8773 35.3149 25.8875 35.768 26.9217C36.5212 28.6453 36.8623 30.5208 36.7642 32.3993C36.6661 34.2777 36.1315 36.1075 35.2029 37.7433C35.146 37.8404 35.0952 37.941 35.051 38.0445C34.8623 38.4842 34.7635 38.9573 34.7605 39.4358C34.7802 40.1222 35.0356 40.7808 35.4835 41.3011C35.9315 41.8214 36.5449 42.1717 37.2207 42.2932C38.8759 42.589 40.1899 41.347 40.8856 39.9609C42.1643 37.3589 42.823 34.4961 42.8101 31.5968Z\"\n",
              "                fill=\"white\"\n",
              "            />\n",
              "            <path\n",
              "                d=\"M28.2309 11.8938C28.1761 11.9043 28.1218 11.9176 28.0683 11.9338C27.9593 11.9642 27.8611 12.0249 27.7851 12.1088C27.7091 12.1928 27.6584 12.2965 27.6389 12.408C27.6193 12.5195 27.6318 12.6343 27.6748 12.7391C27.7178 12.8438 27.7895 12.9343 27.8818 12.9999C29.2375 14.0252 30.3809 15.3043 31.2482 16.7662C31.4838 17.1677 31.6888 17.5865 31.8612 18.0189C32.0052 18.3921 32.1971 18.8799 32.6822 18.8532C33.0607 18.8346 33.2153 18.512 33.3192 18.1895C33.8137 16.5125 33.9678 14.7534 33.7723 13.0159C33.6331 12.0693 33.4155 11.1359 33.122 10.2252C33.0775 10.0047 32.9744 9.80029 32.8235 9.6335C32.7273 9.54627 32.6054 9.49262 32.4761 9.4806C32.3468 9.46859 32.2171 9.49886 32.1065 9.56687C32.0016 9.65188 31.9115 9.75365 31.8399 9.86806C31.3956 10.4658 30.825 10.9581 30.1687 11.3101C29.8377 11.4861 29.4893 11.6272 29.1292 11.7312C28.828 11.8192 28.5215 11.8325 28.2309 11.8938Z\"\n",
              "                fill=\"white\"\n",
              "            />\n",
              "        </svg>\n",
              "        Display SwanLab Board\n",
              "    </button>\n",
              "    <br>\n",
              "    <div id=\"iframeContainer\"></div>\n",
              "</body>\n",
              "</html>\n"
            ]
          },
          "metadata": {}
        }
      ]
    },
    {
      "cell_type": "markdown",
      "source": [
        "访问 config 中的值与在Python中访问其他字典的方式类似："
      ],
      "metadata": {
        "id": "oE8epX7HuFW2"
      }
    },
    {
      "cell_type": "markdown",
      "source": [
        "1. 用键名作为索引访问值"
      ],
      "metadata": {
        "id": "CofFX12duHYu"
      }
    },
    {
      "cell_type": "code",
      "source": [
        "hidden_layer_sizes = swanlab.config[\"hidden_layer_sizes\"]\n",
        "hidden_layer_sizes"
      ],
      "metadata": {
        "colab": {
          "base_uri": "https://localhost:8080/"
        },
        "id": "E0Xjwh4SuJiu",
        "outputId": "d6e64cac-4a01-43d6-e8d5-c7df981d823f"
      },
      "execution_count": null,
      "outputs": [
        {
          "output_type": "execute_result",
          "data": {
            "text/plain": [
              "[64, 128]"
            ]
          },
          "metadata": {},
          "execution_count": 8
        }
      ]
    },
    {
      "cell_type": "markdown",
      "source": [
        "用 get() 方法访问值"
      ],
      "metadata": {
        "id": "Lvdg-Hw4uJM9"
      }
    },
    {
      "cell_type": "code",
      "source": [
        "activation = swanlab.config.get(\"activation\")\n",
        "activation"
      ],
      "metadata": {
        "colab": {
          "base_uri": "https://localhost:8080/",
          "height": 35
        },
        "id": "K-JWwdIDvQgv",
        "outputId": "bbf09ca7-6b09-4d9c-e696-d3d03a652b69"
      },
      "execution_count": null,
      "outputs": [
        {
          "output_type": "execute_result",
          "data": {
            "text/plain": [
              "'ELU'"
            ],
            "application/vnd.google.colaboratory.intrinsic+json": {
              "type": "string"
            }
          },
          "metadata": {},
          "execution_count": 9
        }
      ]
    },
    {
      "cell_type": "markdown",
      "source": [
        "用点号访问值"
      ],
      "metadata": {
        "id": "ZJtVqNi0vXiq"
      }
    },
    {
      "cell_type": "code",
      "source": [
        "dropout = swanlab.config.dropout\n",
        "dropout"
      ],
      "metadata": {
        "colab": {
          "base_uri": "https://localhost:8080/"
        },
        "id": "sJl8LppnvYxm",
        "outputId": "85fd4c47-9d1a-4c54-a373-68ccee3b1b56"
      },
      "execution_count": null,
      "outputs": [
        {
          "output_type": "execute_result",
          "data": {
            "text/plain": [
              "0.5"
            ]
          },
          "metadata": {},
          "execution_count": 10
        }
      ]
    }
  ]
}
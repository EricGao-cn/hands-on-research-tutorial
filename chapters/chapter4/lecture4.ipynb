{
  "nbformat": 4,
  "nbformat_minor": 0,
  "metadata": {
    "colab": {
      "provenance": []
    },
    "kernelspec": {
      "name": "python3",
      "display_name": "Python 3"
    },
    "language_info": {
      "name": "python"
    }
  },
  "cells": [
    {
      "cell_type": "code",
      "execution_count": null,
      "metadata": {
        "id": "q6rCGrecBBuY"
      },
      "outputs": [],
      "source": [
        "import torch"
      ]
    },
    {
      "cell_type": "markdown",
      "source": [
        "1. 将二维列表 [[5,3], [0,9]] 转换为一个张量"
      ],
      "metadata": {
        "id": "HJg3x_jFLXgp"
      }
    },
    {
      "cell_type": "code",
      "source": [
        "data = [[5, 3], [0, 9]]\n",
        "x_data = torch.tensor(data)"
      ],
      "metadata": {
        "id": "o9lTGGkvLNvJ"
      },
      "execution_count": null,
      "outputs": []
    },
    {
      "cell_type": "markdown",
      "source": [
        "2. 使用区间 [0, 1) 上均匀分布的随机数创建形状 (5, 4) 的张量“t”"
      ],
      "metadata": {
        "id": "fWPho5cJLmzA"
      }
    },
    {
      "cell_type": "code",
      "source": [
        "t = torch.rand((5,4))"
      ],
      "metadata": {
        "id": "dwdJxM-XLo4l"
      },
      "execution_count": null,
      "outputs": []
    },
    {
      "cell_type": "markdown",
      "source": [
        "3. 找出张量“t”所在的设备及其数据类型。\n"
      ],
      "metadata": {
        "id": "d-3-cxcyLvDJ"
      }
    },
    {
      "cell_type": "code",
      "source": [
        "print(t.device) # cpu\n",
        "print(t.dtype) # float32"
      ],
      "metadata": {
        "colab": {
          "base_uri": "https://localhost:8080/"
        },
        "id": "8kRPyprDMc1N",
        "outputId": "e5e4560d-ebee-4a3d-93c0-176461aa05e1"
      },
      "execution_count": null,
      "outputs": [
        {
          "output_type": "stream",
          "name": "stdout",
          "text": [
            "cpu\n",
            "torch.float32\n"
          ]
        }
      ]
    },
    {
      "cell_type": "markdown",
      "source": [
        "4. 创建形状 (4,4) 和 (4,4) 的两个随机张量，分别称为“u”和“v”。将它们连接起来形成形状为 (8, 4) 的张量。"
      ],
      "metadata": {
        "id": "BEZEMKXpL6ON"
      }
    },
    {
      "cell_type": "code",
      "source": [
        "u = torch.randn((4,4))\n",
        "v = torch.randn((4,4))\n",
        "print(torch.concat((u,v), dim=0).shape) # torch.Size([8, 4])"
      ],
      "metadata": {
        "colab": {
          "base_uri": "https://localhost:8080/"
        },
        "id": "Wj7ksR69Mkh0",
        "outputId": "d28f40ec-19d6-41ee-e358-2afecbdaf3df"
      },
      "execution_count": null,
      "outputs": [
        {
          "output_type": "stream",
          "name": "stdout",
          "text": [
            "torch.Size([8, 4])\n"
          ]
        }
      ]
    },
    {
      "cell_type": "markdown",
      "source": [
        "5. 连接 u 和 v 以创建形状 (2, 4, 4) 的张量。"
      ],
      "metadata": {
        "id": "1TzX8BNKL-1y"
      }
    },
    {
      "cell_type": "code",
      "source": [
        "print(torch.stack((u,v), dim=0).shape) # torch.Size([2, 4, 4])"
      ],
      "metadata": {
        "colab": {
          "base_uri": "https://localhost:8080/"
        },
        "id": "5Tk2CDLGMoQq",
        "outputId": "d6fa6f95-b2d6-4e76-9c68-93bbc9333ce2"
      },
      "execution_count": null,
      "outputs": [
        {
          "output_type": "stream",
          "name": "stdout",
          "text": [
            "torch.Size([2, 4, 4])\n"
          ]
        }
      ]
    },
    {
      "cell_type": "markdown",
      "source": [
        "6. 连接 u 和 v 形成一个张量，称为形状 (4, 4, 2) 的 w。"
      ],
      "metadata": {
        "id": "OYdfN7TKMDf-"
      }
    },
    {
      "cell_type": "code",
      "source": [
        "w = torch.stack((u,v), dim=2)\n",
        "print(w.shape) # torch.Size([4, 4, 2])"
      ],
      "metadata": {
        "colab": {
          "base_uri": "https://localhost:8080/"
        },
        "id": "Q10UET4NMqzf",
        "outputId": "1451cb85-00ce-412d-ea3d-04cd5658684e"
      },
      "execution_count": null,
      "outputs": [
        {
          "output_type": "stream",
          "name": "stdout",
          "text": [
            "torch.Size([4, 4, 2])\n"
          ]
        }
      ]
    },
    {
      "cell_type": "markdown",
      "source": [
        "7. 索引 w 位于 3, 3, 0。将该元素称为“e”。"
      ],
      "metadata": {
        "id": "stR-Or2jMI8e"
      }
    },
    {
      "cell_type": "code",
      "source": [
        "e = w[3,3,0]"
      ],
      "metadata": {
        "id": "xNmo0-L5MtNb"
      },
      "execution_count": null,
      "outputs": []
    },
    {
      "cell_type": "markdown",
      "source": [
        "8. 会在 u 或 v 的哪一个中找到 w？并核实。"
      ],
      "metadata": {
        "id": "rXjIhEQxMPBt"
      }
    },
    {
      "cell_type": "code",
      "source": [
        "# in u\n",
        "w[3,3,0] == u[3,3] # True"
      ],
      "metadata": {
        "colab": {
          "base_uri": "https://localhost:8080/"
        },
        "id": "6y1zAxuJM5M-",
        "outputId": "54bd7dff-6fe5-4077-fc52-bb4714d048c8"
      },
      "execution_count": null,
      "outputs": [
        {
          "output_type": "execute_result",
          "data": {
            "text/plain": [
              "tensor(True)"
            ]
          },
          "metadata": {},
          "execution_count": 9
        }
      ]
    },
    {
      "cell_type": "markdown",
      "source": [
        "9. 创建一个形状为 (4, 3) 的全为 1 的张量 ‘a’。对 ‘a’ 进行元素级别的自乘操作。"
      ],
      "metadata": {
        "id": "2rZPsa-4MSWC"
      }
    },
    {
      "cell_type": "code",
      "source": [
        "a = torch.ones((4,3))\n",
        "a * a # tensor([[1., 1., 1.],[1., 1., 1.],[1., 1., 1.],[1., 1., 1.]])"
      ],
      "metadata": {
        "colab": {
          "base_uri": "https://localhost:8080/"
        },
        "id": "MSjcPCOaM_aa",
        "outputId": "8d2f0c5e-9669-43ba-9dbd-14b3cc7ce850"
      },
      "execution_count": null,
      "outputs": [
        {
          "output_type": "execute_result",
          "data": {
            "text/plain": [
              "tensor([[1., 1., 1.],\n",
              "        [1., 1., 1.],\n",
              "        [1., 1., 1.],\n",
              "        [1., 1., 1.]])"
            ]
          },
          "metadata": {},
          "execution_count": 10
        }
      ]
    },
    {
      "cell_type": "markdown",
      "source": [
        "10. 向“a”添加一个额外的维度（新的第 0 维度）。"
      ],
      "metadata": {
        "id": "5OR05FJOMVf_"
      }
    },
    {
      "cell_type": "code",
      "source": [
        "print(torch.unsqueeze(a, 0).shape) # torch.Size([1, 4, 3])"
      ],
      "metadata": {
        "colab": {
          "base_uri": "https://localhost:8080/"
        },
        "id": "Osk8Cj0cNCUf",
        "outputId": "393f215c-e8c3-49bd-d6e3-bc64e38fb566"
      },
      "execution_count": null,
      "outputs": [
        {
          "output_type": "stream",
          "name": "stdout",
          "text": [
            "torch.Size([1, 4, 3])\n"
          ]
        }
      ]
    },
    {
      "cell_type": "markdown",
      "source": [
        "11. 执行 a 与转置矩阵的乘法。"
      ],
      "metadata": {
        "id": "jWxmW68kMXdN"
      }
    },
    {
      "cell_type": "code",
      "source": [
        "a @ a.T # tensor([3., 3., 3., 3.],[3., 3., 3., 3.],[3., 3., 3., 3.],[3.,"
      ],
      "metadata": {
        "colab": {
          "base_uri": "https://localhost:8080/"
        },
        "id": "NyfW3pN6NEnv",
        "outputId": "d9d4b3bc-0529-4d64-de82-4cd936cdda84"
      },
      "execution_count": null,
      "outputs": [
        {
          "output_type": "execute_result",
          "data": {
            "text/plain": [
              "tensor([[3., 3., 3., 3.],\n",
              "        [3., 3., 3., 3.],\n",
              "        [3., 3., 3., 3.],\n",
              "        [3., 3., 3., 3.]])"
            ]
          },
          "metadata": {},
          "execution_count": 12
        }
      ]
    },
    {
      "cell_type": "markdown",
      "source": [
        "12. a.mul(a) 会产生什么结果？"
      ],
      "metadata": {
        "id": "hpZl-U8ZMZ4Y"
      }
    },
    {
      "cell_type": "code",
      "source": [
        "# An elementwise multiplication, same as #9"
      ],
      "metadata": {
        "id": "vvgoz80iNHKl"
      },
      "execution_count": null,
      "outputs": []
    },
    {
      "cell_type": "markdown",
      "source": [
        "13. a.matmul(a.T) 会产生什么结果？"
      ],
      "metadata": {
        "id": "N-R7_MakNXrs"
      }
    },
    {
      "cell_type": "code",
      "source": [
        "# A matrix multiplication aka dot product, same as #11"
      ],
      "metadata": {
        "id": "vb4ENaw4L4nH"
      },
      "execution_count": null,
      "outputs": []
    },
    {
      "cell_type": "markdown",
      "source": [
        "14. What would a.mul(a.T) result in?"
      ],
      "metadata": {
        "id": "-2GxhgSKNdZs"
      }
    },
    {
      "cell_type": "code",
      "source": [
        "# An error; the sizes won’t match."
      ],
      "metadata": {
        "id": "lhcIBCu0Ngx1"
      },
      "execution_count": null,
      "outputs": []
    },
    {
      "cell_type": "markdown",
      "source": [
        "15. 猜猜下面会打印什么。验证一下"
      ],
      "metadata": {
        "id": "E5EoNhQfNlst"
      }
    },
    {
      "cell_type": "code",
      "source": [
        "t = torch.ones(5)\n",
        "n = t.numpy()\n",
        "n[0] = 2\n",
        "print(t)"
      ],
      "metadata": {
        "colab": {
          "base_uri": "https://localhost:8080/"
        },
        "id": "XdFZJ7b-Nld0",
        "outputId": "fe6d14a5-fbef-4d82-f977-bf62fbde14fa"
      },
      "execution_count": null,
      "outputs": [
        {
          "output_type": "stream",
          "name": "stdout",
          "text": [
            "tensor([2., 1., 1., 1., 1.])\n"
          ]
        }
      ]
    },
    {
      "cell_type": "markdown",
      "source": [
        "16. 下面会打印什么？"
      ],
      "metadata": {
        "id": "y_kBM2hHN3g9"
      }
    },
    {
      "cell_type": "code",
      "source": [
        "t = torch.tensor([2., 1., 1., 1., 1.])\n",
        "t.add(2)\n",
        "t.add_(1)\n",
        "print(n)"
      ],
      "metadata": {
        "id": "AOuR0xdsN_Pv"
      },
      "execution_count": null,
      "outputs": []
    }
  ]
}